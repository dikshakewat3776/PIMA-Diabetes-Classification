{
  "nbformat": 4,
  "nbformat_minor": 0,
  "metadata": {
    "colab": {
      "name": "Project - Classification - PIMA.ipynb",
      "provenance": [],
      "collapsed_sections": []
    },
    "kernelspec": {
      "display_name": "Python 3",
      "language": "python",
      "name": "python3"
    },
    "language_info": {
      "codemirror_mode": {
        "name": "ipython",
        "version": 3
      },
      "file_extension": ".py",
      "mimetype": "text/x-python",
      "name": "python",
      "nbconvert_exporter": "python",
      "pygments_lexer": "ipython3",
      "version": "3.7.1"
    }
  },
  "cells": [
    {
      "cell_type": "code",
      "metadata": {
        "colab_type": "code",
        "id": "G1rlqvx25pey",
        "colab": {}
      },
      "source": [
        "# Classification Project: Pima Indians Diabetes\n",
        "\n",
        "# Load libraries\n",
        "import pandas\n",
        "import numpy\n",
        "import matplotlib.pyplot as plt\n",
        "from pandas.plotting import scatter_matrix\n",
        "from sklearn.preprocessing import StandardScaler\n",
        "from sklearn.preprocessing import MinMaxScaler\n",
        "from sklearn.preprocessing import Imputer\n",
        "from sklearn import model_selection\n",
        "from sklearn.metrics import classification_report\n",
        "from sklearn.metrics import confusion_matrix\n",
        "from sklearn.metrics import accuracy_score\n",
        "from sklearn.pipeline import Pipeline\n",
        "from sklearn.model_selection import GridSearchCV\n",
        "from sklearn.linear_model import LogisticRegression\n",
        "from sklearn.tree import DecisionTreeClassifier\n",
        "from sklearn.neighbors import KNeighborsClassifier\n",
        "from sklearn.discriminant_analysis import LinearDiscriminantAnalysis\n",
        "from sklearn.naive_bayes import GaussianNB\n",
        "from sklearn.svm import SVC\n",
        "from sklearn.ensemble import AdaBoostClassifier\n",
        "from sklearn.ensemble import GradientBoostingClassifier\n",
        "from sklearn.ensemble import RandomForestClassifier\n",
        "from sklearn.ensemble import ExtraTreesClassifier"
      ],
      "execution_count": null,
      "outputs": []
    },
    {
      "cell_type": "code",
      "metadata": {
        "colab_type": "code",
        "id": "Ls4BIyoE5pe1",
        "colab": {}
      },
      "source": [
        "# Load dataset\n",
        "# url = \"https://archive.ics.uci.edu/ml/machine-learning-databases/pima-indians-diabetes/pima-indians-diabetes.data\"\n",
        "names = ['preg', 'plas', 'pres', 'skin', 'test', 'mass', 'pedi', 'age', 'class']\n",
        "dataset = pandas.read_csv(\"pima-indians-diabetes.data.csv\", names=names)"
      ],
      "execution_count": null,
      "outputs": []
    },
    {
      "cell_type": "code",
      "metadata": {
        "colab_type": "code",
        "id": "Lc3h7SF45pe4",
        "colab": {},
        "outputId": "12dd7174-74c9-4e1e-a46d-49fba4b61eca"
      },
      "source": [
        "# Summarize Data\n",
        "\n",
        "# Descriptive statistics\n",
        "# shape\n",
        "\n",
        "dataset.shape"
      ],
      "execution_count": null,
      "outputs": [
        {
          "output_type": "execute_result",
          "data": {
            "text/plain": [
              "(768, 9)"
            ]
          },
          "metadata": {
            "tags": []
          },
          "execution_count": 4
        }
      ]
    },
    {
      "cell_type": "code",
      "metadata": {
        "colab_type": "code",
        "id": "jCKybSjQ5pfA",
        "colab": {},
        "outputId": "07273095-bb1e-4a5a-d139-5e8f5c02b29e"
      },
      "source": [
        "# types\n",
        "dataset.dtypes"
      ],
      "execution_count": null,
      "outputs": [
        {
          "output_type": "execute_result",
          "data": {
            "text/plain": [
              "preg       int64\n",
              "plas       int64\n",
              "pres       int64\n",
              "skin       int64\n",
              "test       int64\n",
              "mass     float64\n",
              "pedi     float64\n",
              "age        int64\n",
              "class      int64\n",
              "dtype: object"
            ]
          },
          "metadata": {
            "tags": []
          },
          "execution_count": 5
        }
      ]
    },
    {
      "cell_type": "code",
      "metadata": {
        "colab_type": "code",
        "id": "uYMdzdxZ5pfF",
        "colab": {},
        "outputId": "532c4e70-b838-45f9-d928-47c2a7e36695"
      },
      "source": [
        "# head\n",
        "dataset.head()"
      ],
      "execution_count": null,
      "outputs": [
        {
          "output_type": "execute_result",
          "data": {
            "text/html": [
              "<div>\n",
              "<style scoped>\n",
              "    .dataframe tbody tr th:only-of-type {\n",
              "        vertical-align: middle;\n",
              "    }\n",
              "\n",
              "    .dataframe tbody tr th {\n",
              "        vertical-align: top;\n",
              "    }\n",
              "\n",
              "    .dataframe thead th {\n",
              "        text-align: right;\n",
              "    }\n",
              "</style>\n",
              "<table border=\"1\" class=\"dataframe\">\n",
              "  <thead>\n",
              "    <tr style=\"text-align: right;\">\n",
              "      <th></th>\n",
              "      <th>preg</th>\n",
              "      <th>plas</th>\n",
              "      <th>pres</th>\n",
              "      <th>skin</th>\n",
              "      <th>test</th>\n",
              "      <th>mass</th>\n",
              "      <th>pedi</th>\n",
              "      <th>age</th>\n",
              "      <th>class</th>\n",
              "    </tr>\n",
              "  </thead>\n",
              "  <tbody>\n",
              "    <tr>\n",
              "      <th>0</th>\n",
              "      <td>6</td>\n",
              "      <td>148</td>\n",
              "      <td>72</td>\n",
              "      <td>35</td>\n",
              "      <td>0</td>\n",
              "      <td>33.6</td>\n",
              "      <td>0.627</td>\n",
              "      <td>50</td>\n",
              "      <td>1</td>\n",
              "    </tr>\n",
              "    <tr>\n",
              "      <th>1</th>\n",
              "      <td>1</td>\n",
              "      <td>85</td>\n",
              "      <td>66</td>\n",
              "      <td>29</td>\n",
              "      <td>0</td>\n",
              "      <td>26.6</td>\n",
              "      <td>0.351</td>\n",
              "      <td>31</td>\n",
              "      <td>0</td>\n",
              "    </tr>\n",
              "    <tr>\n",
              "      <th>2</th>\n",
              "      <td>8</td>\n",
              "      <td>183</td>\n",
              "      <td>64</td>\n",
              "      <td>0</td>\n",
              "      <td>0</td>\n",
              "      <td>23.3</td>\n",
              "      <td>0.672</td>\n",
              "      <td>32</td>\n",
              "      <td>1</td>\n",
              "    </tr>\n",
              "    <tr>\n",
              "      <th>3</th>\n",
              "      <td>1</td>\n",
              "      <td>89</td>\n",
              "      <td>66</td>\n",
              "      <td>23</td>\n",
              "      <td>94</td>\n",
              "      <td>28.1</td>\n",
              "      <td>0.167</td>\n",
              "      <td>21</td>\n",
              "      <td>0</td>\n",
              "    </tr>\n",
              "    <tr>\n",
              "      <th>4</th>\n",
              "      <td>0</td>\n",
              "      <td>137</td>\n",
              "      <td>40</td>\n",
              "      <td>35</td>\n",
              "      <td>168</td>\n",
              "      <td>43.1</td>\n",
              "      <td>2.288</td>\n",
              "      <td>33</td>\n",
              "      <td>1</td>\n",
              "    </tr>\n",
              "  </tbody>\n",
              "</table>\n",
              "</div>"
            ],
            "text/plain": [
              "   preg  plas  pres  skin  test  mass   pedi  age  class\n",
              "0     6   148    72    35     0  33.6  0.627   50      1\n",
              "1     1    85    66    29     0  26.6  0.351   31      0\n",
              "2     8   183    64     0     0  23.3  0.672   32      1\n",
              "3     1    89    66    23    94  28.1  0.167   21      0\n",
              "4     0   137    40    35   168  43.1  2.288   33      1"
            ]
          },
          "metadata": {
            "tags": []
          },
          "execution_count": 6
        }
      ]
    },
    {
      "cell_type": "code",
      "metadata": {
        "colab_type": "code",
        "id": "9tdponIm5pfI",
        "colab": {},
        "outputId": "2a722237-62f3-4da3-a7a4-766184226f12"
      },
      "source": [
        "# descriptions, change precision to 3 places\n",
        "pandas.set_option('precision',3)\n",
        "dataset.describe()"
      ],
      "execution_count": null,
      "outputs": [
        {
          "output_type": "execute_result",
          "data": {
            "text/html": [
              "<div>\n",
              "<style scoped>\n",
              "    .dataframe tbody tr th:only-of-type {\n",
              "        vertical-align: middle;\n",
              "    }\n",
              "\n",
              "    .dataframe tbody tr th {\n",
              "        vertical-align: top;\n",
              "    }\n",
              "\n",
              "    .dataframe thead th {\n",
              "        text-align: right;\n",
              "    }\n",
              "</style>\n",
              "<table border=\"1\" class=\"dataframe\">\n",
              "  <thead>\n",
              "    <tr style=\"text-align: right;\">\n",
              "      <th></th>\n",
              "      <th>preg</th>\n",
              "      <th>plas</th>\n",
              "      <th>pres</th>\n",
              "      <th>skin</th>\n",
              "      <th>test</th>\n",
              "      <th>mass</th>\n",
              "      <th>pedi</th>\n",
              "      <th>age</th>\n",
              "      <th>class</th>\n",
              "    </tr>\n",
              "  </thead>\n",
              "  <tbody>\n",
              "    <tr>\n",
              "      <th>count</th>\n",
              "      <td>768.000</td>\n",
              "      <td>768.000</td>\n",
              "      <td>768.000</td>\n",
              "      <td>768.000</td>\n",
              "      <td>768.000</td>\n",
              "      <td>768.000</td>\n",
              "      <td>768.000</td>\n",
              "      <td>768.000</td>\n",
              "      <td>768.000</td>\n",
              "    </tr>\n",
              "    <tr>\n",
              "      <th>mean</th>\n",
              "      <td>3.845</td>\n",
              "      <td>120.895</td>\n",
              "      <td>69.105</td>\n",
              "      <td>20.536</td>\n",
              "      <td>79.799</td>\n",
              "      <td>31.993</td>\n",
              "      <td>0.472</td>\n",
              "      <td>33.241</td>\n",
              "      <td>0.349</td>\n",
              "    </tr>\n",
              "    <tr>\n",
              "      <th>std</th>\n",
              "      <td>3.370</td>\n",
              "      <td>31.973</td>\n",
              "      <td>19.356</td>\n",
              "      <td>15.952</td>\n",
              "      <td>115.244</td>\n",
              "      <td>7.884</td>\n",
              "      <td>0.331</td>\n",
              "      <td>11.760</td>\n",
              "      <td>0.477</td>\n",
              "    </tr>\n",
              "    <tr>\n",
              "      <th>min</th>\n",
              "      <td>0.000</td>\n",
              "      <td>0.000</td>\n",
              "      <td>0.000</td>\n",
              "      <td>0.000</td>\n",
              "      <td>0.000</td>\n",
              "      <td>0.000</td>\n",
              "      <td>0.078</td>\n",
              "      <td>21.000</td>\n",
              "      <td>0.000</td>\n",
              "    </tr>\n",
              "    <tr>\n",
              "      <th>25%</th>\n",
              "      <td>1.000</td>\n",
              "      <td>99.000</td>\n",
              "      <td>62.000</td>\n",
              "      <td>0.000</td>\n",
              "      <td>0.000</td>\n",
              "      <td>27.300</td>\n",
              "      <td>0.244</td>\n",
              "      <td>24.000</td>\n",
              "      <td>0.000</td>\n",
              "    </tr>\n",
              "    <tr>\n",
              "      <th>50%</th>\n",
              "      <td>3.000</td>\n",
              "      <td>117.000</td>\n",
              "      <td>72.000</td>\n",
              "      <td>23.000</td>\n",
              "      <td>30.500</td>\n",
              "      <td>32.000</td>\n",
              "      <td>0.372</td>\n",
              "      <td>29.000</td>\n",
              "      <td>0.000</td>\n",
              "    </tr>\n",
              "    <tr>\n",
              "      <th>75%</th>\n",
              "      <td>6.000</td>\n",
              "      <td>140.250</td>\n",
              "      <td>80.000</td>\n",
              "      <td>32.000</td>\n",
              "      <td>127.250</td>\n",
              "      <td>36.600</td>\n",
              "      <td>0.626</td>\n",
              "      <td>41.000</td>\n",
              "      <td>1.000</td>\n",
              "    </tr>\n",
              "    <tr>\n",
              "      <th>max</th>\n",
              "      <td>17.000</td>\n",
              "      <td>199.000</td>\n",
              "      <td>122.000</td>\n",
              "      <td>99.000</td>\n",
              "      <td>846.000</td>\n",
              "      <td>67.100</td>\n",
              "      <td>2.420</td>\n",
              "      <td>81.000</td>\n",
              "      <td>1.000</td>\n",
              "    </tr>\n",
              "  </tbody>\n",
              "</table>\n",
              "</div>"
            ],
            "text/plain": [
              "          preg     plas     pres     skin     test     mass     pedi      age  \\\n",
              "count  768.000  768.000  768.000  768.000  768.000  768.000  768.000  768.000   \n",
              "mean     3.845  120.895   69.105   20.536   79.799   31.993    0.472   33.241   \n",
              "std      3.370   31.973   19.356   15.952  115.244    7.884    0.331   11.760   \n",
              "min      0.000    0.000    0.000    0.000    0.000    0.000    0.078   21.000   \n",
              "25%      1.000   99.000   62.000    0.000    0.000   27.300    0.244   24.000   \n",
              "50%      3.000  117.000   72.000   23.000   30.500   32.000    0.372   29.000   \n",
              "75%      6.000  140.250   80.000   32.000  127.250   36.600    0.626   41.000   \n",
              "max     17.000  199.000  122.000   99.000  846.000   67.100    2.420   81.000   \n",
              "\n",
              "         class  \n",
              "count  768.000  \n",
              "mean     0.349  \n",
              "std      0.477  \n",
              "min      0.000  \n",
              "25%      0.000  \n",
              "50%      0.000  \n",
              "75%      1.000  \n",
              "max      1.000  "
            ]
          },
          "metadata": {
            "tags": []
          },
          "execution_count": 7
        }
      ]
    },
    {
      "cell_type": "code",
      "metadata": {
        "colab_type": "code",
        "id": "8t2CpbsI5pfM",
        "colab": {},
        "outputId": "ae5d3252-7917-483e-be94-b206314d7899"
      },
      "source": [
        "# class distribution\n",
        "dataset.groupby('class').size()"
      ],
      "execution_count": null,
      "outputs": [
        {
          "output_type": "execute_result",
          "data": {
            "text/plain": [
              "class\n",
              "0    500\n",
              "1    268\n",
              "dtype: int64"
            ]
          },
          "metadata": {
            "tags": []
          },
          "execution_count": 8
        }
      ]
    },
    {
      "cell_type": "code",
      "metadata": {
        "colab_type": "code",
        "id": "-z3F5Des5pfP",
        "colab": {},
        "outputId": "5ede17a6-e64c-41cb-bac3-54e36eedb1c2"
      },
      "source": [
        "# correlation\n",
        "dataset.corr(method=\"pearson\")"
      ],
      "execution_count": null,
      "outputs": [
        {
          "output_type": "execute_result",
          "data": {
            "text/html": [
              "<div>\n",
              "<style scoped>\n",
              "    .dataframe tbody tr th:only-of-type {\n",
              "        vertical-align: middle;\n",
              "    }\n",
              "\n",
              "    .dataframe tbody tr th {\n",
              "        vertical-align: top;\n",
              "    }\n",
              "\n",
              "    .dataframe thead th {\n",
              "        text-align: right;\n",
              "    }\n",
              "</style>\n",
              "<table border=\"1\" class=\"dataframe\">\n",
              "  <thead>\n",
              "    <tr style=\"text-align: right;\">\n",
              "      <th></th>\n",
              "      <th>preg</th>\n",
              "      <th>plas</th>\n",
              "      <th>pres</th>\n",
              "      <th>skin</th>\n",
              "      <th>test</th>\n",
              "      <th>mass</th>\n",
              "      <th>pedi</th>\n",
              "      <th>age</th>\n",
              "      <th>class</th>\n",
              "    </tr>\n",
              "  </thead>\n",
              "  <tbody>\n",
              "    <tr>\n",
              "      <th>preg</th>\n",
              "      <td>1.000</td>\n",
              "      <td>0.129</td>\n",
              "      <td>0.141</td>\n",
              "      <td>-0.082</td>\n",
              "      <td>-0.074</td>\n",
              "      <td>0.018</td>\n",
              "      <td>-0.034</td>\n",
              "      <td>0.544</td>\n",
              "      <td>0.222</td>\n",
              "    </tr>\n",
              "    <tr>\n",
              "      <th>plas</th>\n",
              "      <td>0.129</td>\n",
              "      <td>1.000</td>\n",
              "      <td>0.153</td>\n",
              "      <td>0.057</td>\n",
              "      <td>0.331</td>\n",
              "      <td>0.221</td>\n",
              "      <td>0.137</td>\n",
              "      <td>0.264</td>\n",
              "      <td>0.467</td>\n",
              "    </tr>\n",
              "    <tr>\n",
              "      <th>pres</th>\n",
              "      <td>0.141</td>\n",
              "      <td>0.153</td>\n",
              "      <td>1.000</td>\n",
              "      <td>0.207</td>\n",
              "      <td>0.089</td>\n",
              "      <td>0.282</td>\n",
              "      <td>0.041</td>\n",
              "      <td>0.240</td>\n",
              "      <td>0.065</td>\n",
              "    </tr>\n",
              "    <tr>\n",
              "      <th>skin</th>\n",
              "      <td>-0.082</td>\n",
              "      <td>0.057</td>\n",
              "      <td>0.207</td>\n",
              "      <td>1.000</td>\n",
              "      <td>0.437</td>\n",
              "      <td>0.393</td>\n",
              "      <td>0.184</td>\n",
              "      <td>-0.114</td>\n",
              "      <td>0.075</td>\n",
              "    </tr>\n",
              "    <tr>\n",
              "      <th>test</th>\n",
              "      <td>-0.074</td>\n",
              "      <td>0.331</td>\n",
              "      <td>0.089</td>\n",
              "      <td>0.437</td>\n",
              "      <td>1.000</td>\n",
              "      <td>0.198</td>\n",
              "      <td>0.185</td>\n",
              "      <td>-0.042</td>\n",
              "      <td>0.131</td>\n",
              "    </tr>\n",
              "    <tr>\n",
              "      <th>mass</th>\n",
              "      <td>0.018</td>\n",
              "      <td>0.221</td>\n",
              "      <td>0.282</td>\n",
              "      <td>0.393</td>\n",
              "      <td>0.198</td>\n",
              "      <td>1.000</td>\n",
              "      <td>0.141</td>\n",
              "      <td>0.036</td>\n",
              "      <td>0.293</td>\n",
              "    </tr>\n",
              "    <tr>\n",
              "      <th>pedi</th>\n",
              "      <td>-0.034</td>\n",
              "      <td>0.137</td>\n",
              "      <td>0.041</td>\n",
              "      <td>0.184</td>\n",
              "      <td>0.185</td>\n",
              "      <td>0.141</td>\n",
              "      <td>1.000</td>\n",
              "      <td>0.034</td>\n",
              "      <td>0.174</td>\n",
              "    </tr>\n",
              "    <tr>\n",
              "      <th>age</th>\n",
              "      <td>0.544</td>\n",
              "      <td>0.264</td>\n",
              "      <td>0.240</td>\n",
              "      <td>-0.114</td>\n",
              "      <td>-0.042</td>\n",
              "      <td>0.036</td>\n",
              "      <td>0.034</td>\n",
              "      <td>1.000</td>\n",
              "      <td>0.238</td>\n",
              "    </tr>\n",
              "    <tr>\n",
              "      <th>class</th>\n",
              "      <td>0.222</td>\n",
              "      <td>0.467</td>\n",
              "      <td>0.065</td>\n",
              "      <td>0.075</td>\n",
              "      <td>0.131</td>\n",
              "      <td>0.293</td>\n",
              "      <td>0.174</td>\n",
              "      <td>0.238</td>\n",
              "      <td>1.000</td>\n",
              "    </tr>\n",
              "  </tbody>\n",
              "</table>\n",
              "</div>"
            ],
            "text/plain": [
              "        preg   plas   pres   skin   test   mass   pedi    age  class\n",
              "preg   1.000  0.129  0.141 -0.082 -0.074  0.018 -0.034  0.544  0.222\n",
              "plas   0.129  1.000  0.153  0.057  0.331  0.221  0.137  0.264  0.467\n",
              "pres   0.141  0.153  1.000  0.207  0.089  0.282  0.041  0.240  0.065\n",
              "skin  -0.082  0.057  0.207  1.000  0.437  0.393  0.184 -0.114  0.075\n",
              "test  -0.074  0.331  0.089  0.437  1.000  0.198  0.185 -0.042  0.131\n",
              "mass   0.018  0.221  0.282  0.393  0.198  1.000  0.141  0.036  0.293\n",
              "pedi  -0.034  0.137  0.041  0.184  0.185  0.141  1.000  0.034  0.174\n",
              "age    0.544  0.264  0.240 -0.114 -0.042  0.036  0.034  1.000  0.238\n",
              "class  0.222  0.467  0.065  0.075  0.131  0.293  0.174  0.238  1.000"
            ]
          },
          "metadata": {
            "tags": []
          },
          "execution_count": 9
        }
      ]
    },
    {
      "cell_type": "code",
      "metadata": {
        "id": "pNniQhBgbmWO",
        "colab_type": "code",
        "colab": {}
      },
      "source": [
        "#FIND ACCURACY IN TEST DATA\n",
        "\n",
        "predictions = dataset.predict(test_features) "
      ],
      "execution_count": null,
      "outputs": []
    },
    {
      "cell_type": "code",
      "metadata": {
        "colab_type": "code",
        "id": "cQ6UJNzK5pfU",
        "colab": {},
        "outputId": "8f344857-7abc-419a-f3f0-22cb80b9a1cd"
      },
      "source": [
        "# Data visualizations\n",
        "# histograms\n",
        "pandas.DataFrame.hist(dataset)\n",
        "plt.show()"
      ],
      "execution_count": null,
      "outputs": [
        {
          "output_type": "display_data",
          "data": {
            "image/png": "[encoded data removed]",
            "text/plain": [
              "<Figure size 432x288 with 9 Axes>"
            ]
          },
          "metadata": {
            "tags": [],
            "needs_background": "light"
          }
        }
      ]
    },
    {
      "cell_type": "code",
      "metadata": {
        "colab_type": "code",
        "id": "7xs2JW7R5pfa",
        "colab": {},
        "outputId": "9201255b-e8a7-4d52-aed2-bdf715cd9ea6"
      },
      "source": [
        "# density\n",
        "dataset.plot(kind ='density', subplots= True, layout=(4,4), sharex= False)\n",
        "plt.show()"
      ],
      "execution_count": null,
      "outputs": [
        {
          "output_type": "display_data",
          "data": {
            "image/png": "[encoded data removed]",
            "text/plain": [
              "<Figure size 432x288 with 16 Axes>"
            ]
          },
          "metadata": {
            "tags": [],
            "needs_background": "light"
          }
        }
      ]
    },
    {
      "cell_type": "code",
      "metadata": {
        "colab_type": "code",
        "id": "_b_g7i7v5pff",
        "colab": {},
        "outputId": "00dd7f8a-c238-4e04-97c0-3d43ff130e32"
      },
      "source": [
        "# box and whisker plots\n",
        "dataset.plot(kind ='box', subplots= True, layout=(4,4))\n",
        "plt.show()"
      ],
      "execution_count": null,
      "outputs": [
        {
          "output_type": "display_data",
          "data": {
            "image/png": "[encoded data removed]",
            "text/plain": [
              "<Figure size 432x288 with 16 Axes>"
            ]
          },
          "metadata": {
            "tags": [],
            "needs_background": "light"
          }
        }
      ]
    },
    {
      "cell_type": "code",
      "metadata": {
        "colab_type": "code",
        "id": "aIyLVqRb5pfk",
        "colab": {}
      },
      "source": [
        "# scatter plot matrix\n",
        "pandas.plotting.scatter_matrix(dataset)\n",
        "plt.show()"
      ],
      "execution_count": null,
      "outputs": []
    },
    {
      "cell_type": "code",
      "metadata": {
        "colab_type": "code",
        "id": "dvZUC_iI5pfn",
        "colab": {},
        "outputId": "6aec859c-e686-4919-f252-90e7d700d4f1"
      },
      "source": [
        "# correlation matrix\n",
        "fig = plt.figure()\n",
        "ax = fig.add_subplot(111)\n",
        "cax = ax.matshow(dataset.corr(), vmin=-1, vmax=1, interpolation='none')\n",
        "fig.colorbar(cax)\n",
        "ticks = numpy.arange(0,9,1)\n",
        "ax.set_xticks(ticks)\n",
        "ax.set_yticks(ticks)\n",
        "ax.set_xticklabels(names)\n",
        "ax.set_yticklabels(names)\n",
        "plt.show()"
      ],
      "execution_count": null,
      "outputs": [
        {
          "output_type": "display_data",
          "data": {
            "image/png": "[encoded data removed]",
            "text/plain": [
              "<Figure size 432x288 with 2 Axes>"
            ]
          },
          "metadata": {
            "tags": [],
            "needs_background": "light"
          }
        }
      ]
    },
    {
      "cell_type": "code",
      "metadata": {
        "colab_type": "code",
        "id": "JoklXw6N5pfv",
        "colab": {}
      },
      "source": [
        "# Prepare Data\n",
        "\n",
        "# Split-out validation dataset\n",
        "array = dataset.values\n",
        "X = array[:,0:8]\n",
        "Y = array[:,8]\n",
        "validation_size = 0.20\n",
        "seed = 7\n",
        "X_train, X_validation, Y_train, Y_validation = model_selection.train_test_split(X, Y, test_size=validation_size, random_state=seed)"
      ],
      "execution_count": null,
      "outputs": []
    },
    {
      "cell_type": "code",
      "metadata": {
        "colab_type": "code",
        "id": "vVulTbK75pfy",
        "colab": {}
      },
      "source": [
        "# Evaluate Algorithms"
      ],
      "execution_count": null,
      "outputs": []
    },
    {
      "cell_type": "code",
      "metadata": {
        "colab_type": "code",
        "id": "eBrZ9GGw5pf1",
        "colab": {},
        "outputId": "4a3dba75-3e67-497c-f824-4cf105632767"
      },
      "source": [
        "# Spot Check Algorithms\n",
        "models = []\n",
        "models.append(('LR', LogisticRegression()))\n",
        "models.append(('LDA', LinearDiscriminantAnalysis()))\n",
        "models.append(('KNN', KNeighborsClassifier()))\n",
        "models.append(('CART', DecisionTreeClassifier()))\n",
        "models.append(('NB', GaussianNB()))\n",
        "models.append(('SVM', SVC()))\n",
        "results = []\n",
        "names = []\n",
        "for name, model in models:\n",
        "    kfold = model_selection.KFold(n_splits=5, shuffle=True, random_state=5)\n",
        "    cv_results = model_selection.cross_val_score(model, X_train, Y_train, cv=kfold, scoring='accuracy')\n",
        "    results.append(cv_results)\n",
        "    names.append(name)\n",
        "    msg = \"%s: %f (%f)\" % (name, cv_results.mean()*100, cv_results.std()*100)\n",
        "    print(msg)"
      ],
      "execution_count": null,
      "outputs": [
        {
          "output_type": "stream",
          "text": [
            "LR: 75.573770 (2.014926)\n",
            "LDA: 75.896308 (1.203689)\n",
            "KNN: 70.685059 (4.040447)\n",
            "CART: 69.705451 (1.600448)\n",
            "NB: 74.912702 (2.097362)\n",
            "SVM: 65.644409 (4.313308)\n"
          ],
          "name": "stdout"
        }
      ]
    },
    {
      "cell_type": "code",
      "metadata": {
        "colab_type": "code",
        "id": "_uQ4zw-R5pf3",
        "colab": {},
        "outputId": "24c71fa0-cad5-488c-ec80-fcd3eecd2906"
      },
      "source": [
        "# Compare Algorithms\n",
        "fig = plt.figure()\n",
        "fig.suptitle('Algorithm Comparison')\n",
        "ax = fig.add_subplot(111)\n",
        "plt.boxplot(results)\n",
        "ax.set_xticklabels(names)\n",
        "plt.show()"
      ],
      "execution_count": null,
      "outputs": [
        {
          "output_type": "display_data",
          "data": {
            "image/png": "[encoded data removed]",
            "text/plain": [
              "<Figure size 432x288 with 1 Axes>"
            ]
          },
          "metadata": {
            "tags": [],
            "needs_background": "light"
          }
        }
      ]
    },
    {
      "cell_type": "code",
      "metadata": {
        "colab_type": "code",
        "id": "z99bSV0i5pf6",
        "colab": {},
        "outputId": "3cc5bc0f-a5b1-45a7-eee1-222fc705f215"
      },
      "source": [
        "# Standardize the dataset\n",
        "pipelines = []\n",
        "pipelines.append(('ScaledLR', Pipeline([('Scaler', StandardScaler()),('LR', LogisticRegression())])))\n",
        "pipelines.append(('ScaledLDA', Pipeline([('Scaler', StandardScaler()),('LDA', LinearDiscriminantAnalysis())])))\n",
        "pipelines.append(('ScaledKNN', Pipeline([('Scaler', StandardScaler()),('KNN', KNeighborsClassifier())])))\n",
        "pipelines.append(('ScaledCART', Pipeline([('Scaler', StandardScaler()),('CART', DecisionTreeClassifier())])))\n",
        "pipelines.append(('ScaledNB', Pipeline([('Scaler', StandardScaler()),('NB', GaussianNB())])))\n",
        "pipelines.append(('ScaledSVM', Pipeline([('Scaler', StandardScaler()),('SVM', SVC())])))\n",
        "results = []\n",
        "names = []\n",
        "for name, model in pipelines:\n",
        "    kfold = model_selection.KFold(n_splits=5, shuffle=True, random_state=5)\n",
        "    cv_results = model_selection.cross_val_score(model, X_train, Y_train, cv=kfold, scoring='accuracy')\n",
        "    results.append(cv_results)\n",
        "    names.append(name)\n",
        "    msg = \"%s: %f (%f)\" % (name, cv_results.mean()*100, cv_results.std()*100)\n",
        "    print(msg)"
      ],
      "execution_count": null,
      "outputs": [
        {
          "output_type": "stream",
          "text": [
            "ScaledLR: 76.384113 (1.031284)\n",
            "ScaledLDA: 75.896308 (1.203689)\n",
            "ScaledKNN: 71.018259 (3.373886)\n",
            "ScaledCART: 70.034653 (1.446746)\n",
            "ScaledNB: 74.912702 (2.097362)\n",
            "ScaledSVM: 72.968146 (1.967231)\n"
          ],
          "name": "stdout"
        }
      ]
    },
    {
      "cell_type": "code",
      "metadata": {
        "colab_type": "code",
        "id": "3jAdILPD5pf9",
        "colab": {},
        "outputId": "ca0c4216-b99c-42ee-bc70-825edaed8670"
      },
      "source": [
        "# Compare Algorithms\n",
        "fig = plt.figure()\n",
        "fig.suptitle('Scaled Algorithm Comparison')\n",
        "ax = fig.add_subplot(111)\n",
        "plt.boxplot(results)\n",
        "ax.set_xticklabels(names)\n",
        "plt.show()"
      ],
      "execution_count": null,
      "outputs": [
        {
          "output_type": "display_data",
          "data": {
            "image/png": "[encoded data removed]",
            "text/plain": [
              "<Figure size 432x288 with 1 Axes>"
            ]
          },
          "metadata": {
            "tags": [],
            "needs_background": "light"
          }
        }
      ]
    },
    {
      "cell_type": "code",
      "metadata": {
        "colab_type": "code",
        "id": "c8-0YBAs5pgA",
        "colab": {},
        "outputId": "12426082-2762-4275-f8d9-89f1817355d9"
      },
      "source": [
        "# Normalize the dataset\n",
        "pipelines = []\n",
        "pipelines.append(('ScaledLR', Pipeline([('Scaler', MinMaxScaler(feature_range=(0, 1))),('LR', LogisticRegression())])))\n",
        "pipelines.append(('ScaledLDA', Pipeline([('Scaler', MinMaxScaler(feature_range=(0, 1))),('LDA', LinearDiscriminantAnalysis())])))\n",
        "pipelines.append(('ScaledKNN', Pipeline([('Scaler', MinMaxScaler(feature_range=(0, 1))),('KNN', KNeighborsClassifier())])))\n",
        "pipelines.append(('ScaledCART', Pipeline([('Scaler', MinMaxScaler(feature_range=(0, 1))),('CART', DecisionTreeClassifier())])))\n",
        "pipelines.append(('ScaledNB', Pipeline([('Scaler', MinMaxScaler(feature_range=(0, 1))),('NB', GaussianNB())])))\n",
        "pipelines.append(('ScaledSVM', Pipeline([('Scaler', MinMaxScaler(feature_range=(0, 1))),('SVM', SVC())])))\n",
        "results = []\n",
        "names = []\n",
        "for name, model in pipelines:\n",
        "    kfold = model_selection.KFold(n_splits=5, shuffle=True, random_state=5)\n",
        "    cv_results = model_selection.cross_val_score(model, X_train, Y_train, cv=kfold, scoring='accuracy')\n",
        "    results.append(cv_results)\n",
        "    names.append(name)\n",
        "    msg = \"%s: %f (%f)\" % (name, cv_results.mean()*100, cv_results.std()*100)\n",
        "    print(msg)"
      ],
      "execution_count": null,
      "outputs": [
        {
          "output_type": "stream",
          "text": [
            "ScaledLR: 74.919366 (0.569678)\n",
            "ScaledLDA: 75.896308 (1.203689)\n",
            "ScaledKNN: 71.993869 (2.968938)\n",
            "ScaledCART: 70.361189 (2.996559)\n",
            "ScaledNB: 74.912702 (2.097362)\n",
            "ScaledSVM: 72.970812 (2.530931)\n"
          ],
          "name": "stdout"
        }
      ]
    },
    {
      "cell_type": "code",
      "metadata": {
        "colab_type": "code",
        "id": "RKRnnAHG5pgD",
        "colab": {},
        "outputId": "44bf183f-cbb0-4b4c-ad7b-fc0b48b18cc6"
      },
      "source": [
        "# Compare Algorithms\n",
        "fig = plt.figure()\n",
        "fig.suptitle('Scaled Algorithm Comparison')\n",
        "ax = fig.add_subplot(111)\n",
        "plt.boxplot(results)\n",
        "ax.set_xticklabels(names)\n",
        "plt.show()"
      ],
      "execution_count": null,
      "outputs": [
        {
          "output_type": "display_data",
          "data": {
            "image/png": "[encoded data removed]",
            "text/plain": [
              "<Figure size 432x288 with 1 Axes>"
            ]
          },
          "metadata": {
            "tags": [],
            "needs_background": "light"
          }
        }
      ]
    },
    {
      "cell_type": "code",
      "metadata": {
        "colab_type": "code",
        "id": "1vfobEbV5pgH",
        "colab": {},
        "outputId": "8ec807e4-3167-4d20-ba07-a3ae8ac62535"
      },
      "source": [
        "# Impute missing (delete?)\n",
        "X_train_imputed = numpy.copy(X_train)\n",
        "print(X_train.shape)\n",
        "print(X_train_imputed.shape)"
      ],
      "execution_count": null,
      "outputs": [
        {
          "output_type": "stream",
          "text": [
            "(614, 8)\n",
            "(614, 8)\n"
          ],
          "name": "stdout"
        }
      ]
    },
    {
      "cell_type": "code",
      "metadata": {
        "colab_type": "code",
        "id": "_YnjHDFa5pgQ",
        "colab": {}
      },
      "source": [
        "# plas\n",
        "X_train_imputed[X_train_imputed[0::,1] == 0].shape\n",
        "X_train_imputed[X_train_imputed[0::,1] == 0] = numpy.nan"
      ],
      "execution_count": null,
      "outputs": []
    },
    {
      "cell_type": "code",
      "metadata": {
        "colab_type": "code",
        "id": "l54sl4od5pgS",
        "colab": {}
      },
      "source": [
        "# pres\n",
        "X_train_imputed[X_train_imputed[0::,2] == 0].shape\n",
        "X_train_imputed[X_train_imputed[0::,2] == 0] = numpy.nan"
      ],
      "execution_count": null,
      "outputs": []
    },
    {
      "cell_type": "code",
      "metadata": {
        "colab_type": "code",
        "id": "EaC6qCx15pgW",
        "colab": {},
        "outputId": "cbc9b1d4-a24c-4f1a-f7af-09d15458a0ce"
      },
      "source": [
        "# mass\n",
        "X_train_imputed[X_train_imputed[0::,5] == 0].shape\n",
        "X_train_imputed[X_train_imputed[0::,5] == 0] = numpy.nan\n",
        "pipelines = []\n",
        "pipelines.append(('ScaledLR', Pipeline([('Imputer', Imputer(missing_values='NaN', strategy='mean')),('Scaler', StandardScaler()),('LR', LogisticRegression())])))\n",
        "pipelines.append(('ScaledLDA', Pipeline([('Imputer', Imputer(missing_values='NaN', strategy='mean')),('Scaler', StandardScaler()),('LDA', LinearDiscriminantAnalysis())])))\n",
        "pipelines.append(('ScaledKNN', Pipeline([('Imputer', Imputer(missing_values='NaN', strategy='mean')),('Scaler', StandardScaler()),('KNN', KNeighborsClassifier())])))\n",
        "pipelines.append(('ScaledCART', Pipeline([('Imputer', Imputer(missing_values='NaN', strategy='mean')),('Scaler', StandardScaler()),('CART', DecisionTreeClassifier())])))\n",
        "pipelines.append(('ScaledNB', Pipeline([('Imputer', Imputer(missing_values='NaN', strategy='mean')),('Scaler', StandardScaler()),('NB', GaussianNB())])))\n",
        "pipelines.append(('ScaledSVM', Pipeline([('Imputer', Imputer(missing_values='NaN', strategy='mean')),('Scaler', StandardScaler()),('SVM', SVC())])))\n",
        "results = []\n",
        "names = []\n",
        "for name, model in pipelines:\n",
        "    kfold = model_selection.KFold(n_splits=5, shuffle=True, random_state=5)\n",
        "    cv_results = model_selection.cross_val_score(model, X_train, Y_train, cv=kfold, scoring='accuracy')\n",
        "    results.append(cv_results)\n",
        "    names.append(name)\n",
        "    msg = \"%s: %f (%f)\" % (name, cv_results.mean()*100, cv_results.std()*100)\n",
        "    print(msg)"
      ],
      "execution_count": null,
      "outputs": [
        {
          "output_type": "stream",
          "text": [
            "ScaledLR: 76.384113 (1.031284)\n",
            "ScaledLDA: 75.896308 (1.203689)\n",
            "ScaledKNN: 71.018259 (3.373886)\n",
            "ScaledCART: 70.197254 (2.067913)\n",
            "ScaledNB: 74.912702 (2.097362)\n",
            "ScaledSVM: 72.968146 (1.967231)\n"
          ],
          "name": "stdout"
        }
      ]
    },
    {
      "cell_type": "code",
      "metadata": {
        "colab_type": "code",
        "id": "vDswPUzx5pgZ",
        "colab": {},
        "outputId": "b1d137bc-b34f-41e4-d1a5-0cfe496444fe"
      },
      "source": [
        "# ensembles\n",
        "ensembles = []\n",
        "ensembles.append(('ScaledAB', Pipeline([('Scaler', StandardScaler()),('AB', AdaBoostClassifier())])))\n",
        "ensembles.append(('ScaledGBM', Pipeline([('Scaler', StandardScaler()),('GBM', GradientBoostingClassifier())])))  \n",
        "ensembles.append(('ScaledRF', Pipeline([('Scaler', StandardScaler()),('RF', RandomForestClassifier())])))\n",
        "ensembles.append(('ScaledET', Pipeline([('Scaler', StandardScaler()),('ET', ExtraTreesClassifier())])))\n",
        "results = []\n",
        "names = []\n",
        "for name, model in ensembles:\n",
        "    kfold = model_selection.KFold(n_splits=5, shuffle=True, random_state=5)\n",
        "    cv_results = model_selection.cross_val_score(model, X_train, Y_train, cv=kfold, scoring='accuracy')\n",
        "    results.append(cv_results)\n",
        "    names.append(name)\n",
        "    msg = \"%s: %f (%f)\" % (name, cv_results.mean()*100, cv_results.std()*100)\n",
        "    print(msg)"
      ],
      "execution_count": null,
      "outputs": [
        {
          "output_type": "stream",
          "text": [
            "ScaledAB: 75.083300 (4.216441)\n",
            "ScaledGBM: 75.083300 (1.799103)\n",
            "ScaledRF: 72.804212 (1.030436)\n",
            "ScaledET: 70.530454 (4.262245)\n"
          ],
          "name": "stdout"
        }
      ]
    },
    {
      "cell_type": "code",
      "metadata": {
        "colab_type": "code",
        "id": "m5fMn1b75pgc",
        "colab": {},
        "outputId": "e6ead752-8377-49f1-94e9-d5d95c02749e"
      },
      "source": [
        "# Compare Algorithms\n",
        "fig = plt.figure()\n",
        "fig.suptitle('Scaled Ensemble Algorithm Comparison')\n",
        "ax = fig.add_subplot(111)\n",
        "plt.boxplot(results)\n",
        "ax.set_xticklabels(names)\n",
        "plt.show()"
      ],
      "execution_count": null,
      "outputs": [
        {
          "output_type": "display_data",
          "data": {
            "image/png": "[encoded data removed]",
            "text/plain": [
              "<Figure size 432x288 with 1 Axes>"
            ]
          },
          "metadata": {
            "tags": [],
            "needs_background": "light"
          }
        }
      ]
    }
  ]
}